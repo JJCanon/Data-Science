{
 "cells": [
  {
   "cell_type": "markdown",
   "id": "caafe2e4",
   "metadata": {},
   "source": [
    "input: n = 6\n",
    "output:\n",
    "1\n",
    "7 2\n",
    "12 8 3\n",
    "16 13 9 4\n",
    "19 17 14 10 5\n",
    "21 20 18 15 11 6"
   ]
  },
  {
   "cell_type": "code",
   "execution_count": 10,
   "id": "c292b6d7",
   "metadata": {},
   "outputs": [],
   "source": [
    "def pattern(value):\n",
    "    currentValue = 1\n",
    "    while(value>0):\n",
    "        rest = value\n",
    "        actualValue=currentValue\n",
    "        while(actualValue>0):\n",
    "            print(actualValue,end=\" \")\n",
    "            actualValue-=rest\n",
    "            rest+=1\n",
    "        print()\n",
    "        currentValue+=value\n",
    "        value-=1\n"
   ]
  },
  {
   "cell_type": "code",
   "execution_count": 14,
   "id": "e06eb0cb",
   "metadata": {},
   "outputs": [
    {
     "name": "stdout",
     "output_type": "stream",
     "text": [
      "1 \n",
      "11 2 \n",
      "20 12 3 \n",
      "28 21 13 4 \n",
      "35 29 22 14 5 \n",
      "41 36 30 23 15 6 \n",
      "46 42 37 31 24 16 7 \n",
      "50 47 43 38 32 25 17 8 \n",
      "53 51 48 44 39 33 26 18 9 \n",
      "55 54 52 49 45 40 34 27 19 10 \n",
      "__________________________\n",
      "1 \n",
      "10 2 \n",
      "18 11 3 \n",
      "25 19 12 4 \n",
      "31 26 20 13 5 \n",
      "36 32 27 21 14 6 \n",
      "40 37 33 28 22 15 7 \n",
      "43 41 38 34 29 23 16 8 \n",
      "45 44 42 39 35 30 24 17 9 \n",
      "__________________________\n",
      "1 \n",
      "9 2 \n",
      "16 10 3 \n",
      "22 17 11 4 \n",
      "27 23 18 12 5 \n",
      "31 28 24 19 13 6 \n",
      "34 32 29 25 20 14 7 \n",
      "36 35 33 30 26 21 15 8 \n",
      "__________________________\n",
      "1 \n",
      "8 2 \n",
      "14 9 3 \n",
      "19 15 10 4 \n",
      "23 20 16 11 5 \n",
      "26 24 21 17 12 6 \n",
      "28 27 25 22 18 13 7 \n",
      "__________________________\n"
     ]
    }
   ],
   "source": [
    "for i in range(10,6,-1):\n",
    "    pattern(i)\n",
    "    print(\"__________________________\")"
   ]
  }
 ],
 "metadata": {
  "kernelspec": {
   "display_name": "DataScience",
   "language": "python",
   "name": "python3"
  },
  "language_info": {
   "codemirror_mode": {
    "name": "ipython",
    "version": 3
   },
   "file_extension": ".py",
   "mimetype": "text/x-python",
   "name": "python",
   "nbconvert_exporter": "python",
   "pygments_lexer": "ipython3",
   "version": "3.13.2"
  }
 },
 "nbformat": 4,
 "nbformat_minor": 5
}
