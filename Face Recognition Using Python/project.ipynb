{
 "cells": [
  {
   "cell_type": "code",
   "execution_count": null,
   "id": "3398ab66",
   "metadata": {
    "vscode": {
     "languageId": "powershell"
    }
   },
   "outputs": [],
   "source": [
    "# Installing libraries\n",
    "pip install opencv-python"
   ]
  },
  {
   "cell_type": "code",
   "execution_count": 2,
   "id": "fbed9fcd",
   "metadata": {},
   "outputs": [],
   "source": [
    "#importing libraries\n",
    "import cv2"
   ]
  },
  {
   "cell_type": "code",
   "execution_count": null,
   "id": "3cb27767",
   "metadata": {},
   "outputs": [],
   "source": [
    "videoCapture = cv2.VideoCapture(0) # 0 is the default camera\n",
    "while True:\n",
    "    ret, videoData = videoCapture.read() # read the video stream\n",
    "    cv2.imshow(\"video_live\", videoData) # show the video stream in a window\n",
    "    if cv2.waitKey(10) == ord('a'):\n",
    "        break # exit the loop if 'a' is pressed\n",
    "videoCapture.release() # release the camera"
   ]
  },
  {
   "cell_type": "code",
   "execution_count": null,
   "id": "cc471b68",
   "metadata": {},
   "outputs": [],
   "source": [
    "faceCapture=cv2.CascadeClassifier(\"c:/users/jjgca/anaconda3/envs/datascience/lib/site-packages/cv2/data/haarcascade_frontalface_default.xml\") # load the face detection model\n",
    "videoCapture = cv2.VideoCapture(0) # 0 is the default camera\n",
    "while True:\n",
    "    ret, videoData = videoCapture.read() # read the video stream\n",
    "    color = cv2.cvtColor(videoData,cv2.COLOR_BGR2GRAY) # convert the video stream to grayscale\n",
    "    faces = faceCapture.detectMultiScale(color,\n",
    "                                         scaleFactor=1.1,\n",
    "                                         minNeighbors=5,\n",
    "                                         minSize=(30, 30),\n",
    "                                         flags=cv2.CASCADE_SCALE_IMAGE) # detect faces in the video stream\n",
    "    for(x,y,w,h) in faces:\n",
    "        cv2.rectangle(videoData, (x,y), (x+w,y+h), (0,255,0), 2)\n",
    "    cv2.imshow(\"video_live\", videoData) # show the video stream in a window\n",
    "    if cv2.waitKey(10) == ord('a'):\n",
    "        break # exit the loop if 'a' is pressed\n",
    "videoCapture.release() # release the camera"
   ]
  }
 ],
 "metadata": {
  "kernelspec": {
   "display_name": "DataScience",
   "language": "python",
   "name": "python3"
  },
  "language_info": {
   "codemirror_mode": {
    "name": "ipython",
    "version": 3
   },
   "file_extension": ".py",
   "mimetype": "text/x-python",
   "name": "python",
   "nbconvert_exporter": "python",
   "pygments_lexer": "ipython3",
   "version": "3.13.2"
  }
 },
 "nbformat": 4,
 "nbformat_minor": 5
}
