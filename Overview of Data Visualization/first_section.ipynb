{
 "cells": [
  {
   "cell_type": "markdown",
   "metadata": {},
   "source": [
    "# URLS:\n",
    "- [Data Visualization Catalogue](https://datavizcatalogue.com/index.html)\n",
    "- [Example 1](https://tableu.com/learn/articles/best-beautiful-data-visualization-examples/)\n",
    "- [Example 2](https://www.maptive.com/17-impresive-data-visualization-examples-need-see/)\n",
    "- [Example 3](https://setosa.io/bus/)"
   ]
  },
  {
   "cell_type": "markdown",
   "metadata": {},
   "source": [
    "# Data Visualization Beneficts\n",
    "* Spend less time analysing details.\n",
    "* recognize patterns and trends in data.\n",
    "* Identify challenges and successes.\n",
    "* Interpret large amounts of data in the glimpse of an eye.\n",
    "* Look at the same data in multiples ways"
   ]
  }
 ],
 "metadata": {
  "language_info": {
   "name": "python"
  }
 },
 "nbformat": 4,
 "nbformat_minor": 2
}
